{
 "cells": [
  {
   "cell_type": "code",
   "execution_count": 29,
   "metadata": {},
   "outputs": [],
   "source": [
    "from ipynb.fs.full. CV import *"
   ]
  },
  {
   "cell_type": "code",
   "execution_count": 30,
   "metadata": {},
   "outputs": [],
   "source": [
    "# Load libraries\n",
    "import pandas as pd\n",
    "from sklearn.tree import DecisionTreeClassifier # Import Decision Tree Classifier\n",
    "from sklearn.model_selection import train_test_split # Import train_test_split function\n",
    "from sklearn import metrics #Import scikit-learn metrics module for accuracy calculation"
   ]
  },
  {
   "cell_type": "code",
   "execution_count": 31,
   "metadata": {},
   "outputs": [],
   "source": [
    "X = df1 # Features\n",
    "y = dataset['label'] # Target variable"
   ]
  },
  {
   "cell_type": "code",
   "execution_count": 32,
   "metadata": {},
   "outputs": [],
   "source": [
    "X_train, X_test, y_train, y_test = train_test_split(X, y, test_size=0.35)"
   ]
  },
  {
   "cell_type": "code",
   "execution_count": 33,
   "metadata": {},
   "outputs": [
    {
     "name": "stdout",
     "output_type": "stream",
     "text": [
      "Accuracy for Iteration 0 0.18346573982125125\n",
      "Fscore for Iteration 0 0.17093691449381185\n",
      "Precision for Iteration 0 0.17305803441686307\n",
      "Recall for Iteration 0 0.1712035742463396\n",
      "--------------------------------------------------------------------------------\n",
      "Accuracy for Iteration 1 0.18222442899702085\n",
      "Fscore for Iteration 1 0.17052643197642725\n",
      "Precision for Iteration 1 0.17255060996761692\n",
      "Recall for Iteration 1 0.17060388435279403\n",
      "--------------------------------------------------------------------------------\n",
      "Accuracy for Iteration 2 0.18346573982125125\n",
      "Fscore for Iteration 2 0.17145427286532047\n",
      "Precision for Iteration 2 0.17294261570221983\n",
      "Recall for Iteration 2 0.1715730792110237\n",
      "--------------------------------------------------------------------------------\n",
      "Accuracy for Iteration 3 0.17750744786494538\n",
      "Fscore for Iteration 3 0.16540605838299585\n",
      "Precision for Iteration 3 0.1672637576664816\n",
      "Recall for Iteration 3 0.1655551188728216\n",
      "--------------------------------------------------------------------------------\n",
      "Accuracy for Iteration 4 0.182720953326713\n",
      "Fscore for Iteration 4 0.1698088242930342\n",
      "Precision for Iteration 4 0.17235234607280792\n",
      "Recall for Iteration 4 0.17020997157180362\n",
      "--------------------------------------------------------------------------------\n"
     ]
    }
   ],
   "source": [
    "from sklearn import metrics\n",
    "from sklearn.metrics import precision_recall_fscore_support as score\n",
    "\n",
    "rf_accuracy = []\n",
    "rf_fScore = []\n",
    "rf_precision = []\n",
    "rf_recall = []\n",
    "\n",
    "for i in range(5):\n",
    "    #Create a Gaussian Classifier\n",
    "    clf=DecisionTreeClassifier()\n",
    "\n",
    "    #Train the model using the training sets y_pred=clf.predict(X_test)\n",
    "    clf.fit(X_train,y_train)\n",
    "\n",
    "    y_pred=clf.predict(X_test)\n",
    "\n",
    "    predictions = clf.predict(X_test)\n",
    "    precision,recall,fscore,support=score(y_test,predictions)\n",
    "\n",
    "    print(\"Accuracy for Iteration \" + str(i) + \" \" + str(metrics.accuracy_score(y_test, y_pred)))\n",
    "    rf_accuracy.append(metrics.accuracy_score(y_test, y_pred))\n",
    "\n",
    "    print(\"Fscore for Iteration \" + str(i) + \" \" + str(sum(fscore)/len(fscore)))\n",
    "    rf_fScore.append(sum(fscore)/len(fscore))\n",
    "\n",
    "    print(\"Precision for Iteration \" + str(i) + \" \" + str(sum(precision)/len(precision)))\n",
    "    rf_precision.append(sum(precision)/len(precision))\n",
    "    \n",
    "    print(\"Recall for Iteration \" + str(i) + \" \" + str(sum(recall)/len(recall)))\n",
    "    rf_recall.append(sum(recall)/len(recall))\n",
    "\n",
    "    print(\"--------------------------------------------------------------------------------\")"
   ]
  },
  {
   "cell_type": "code",
   "execution_count": 34,
   "metadata": {},
   "outputs": [
    {
     "data": {
      "text/plain": [
       "0.18187686196623634"
      ]
     },
     "execution_count": 34,
     "metadata": {},
     "output_type": "execute_result"
    }
   ],
   "source": [
    "sum(rf_accuracy)/len(rf_accuracy)"
   ]
  },
  {
   "cell_type": "code",
   "execution_count": 35,
   "metadata": {},
   "outputs": [
    {
     "data": {
      "text/plain": [
       "0.16962650040231791"
      ]
     },
     "execution_count": 35,
     "metadata": {},
     "output_type": "execute_result"
    }
   ],
   "source": [
    "sum(rf_fScore)/len(rf_fScore)"
   ]
  },
  {
   "cell_type": "code",
   "execution_count": 36,
   "metadata": {},
   "outputs": [
    {
     "data": {
      "text/plain": [
       "0.17163347276519786"
      ]
     },
     "execution_count": 36,
     "metadata": {},
     "output_type": "execute_result"
    }
   ],
   "source": [
    "sum(rf_precision)/len(rf_precision)"
   ]
  },
  {
   "cell_type": "code",
   "execution_count": 37,
   "metadata": {},
   "outputs": [
    {
     "data": {
      "text/plain": [
       "0.1698291256509565"
      ]
     },
     "execution_count": 37,
     "metadata": {},
     "output_type": "execute_result"
    }
   ],
   "source": [
    "sum(rf_recall)/len(rf_recall)"
   ]
  }
 ],
 "metadata": {
  "interpreter": {
   "hash": "1db64c8312b868eab46eb06f4077bc4b407b350787c4625e9af163ad1a2693d2"
  },
  "kernelspec": {
   "display_name": "Python 3.8.5 ('base')",
   "language": "python",
   "name": "python3"
  },
  "language_info": {
   "codemirror_mode": {
    "name": "ipython",
    "version": 3
   },
   "file_extension": ".py",
   "mimetype": "text/x-python",
   "name": "python",
   "nbconvert_exporter": "python",
   "pygments_lexer": "ipython3",
   "version": "3.8.5"
  },
  "orig_nbformat": 4
 },
 "nbformat": 4,
 "nbformat_minor": 2
}
