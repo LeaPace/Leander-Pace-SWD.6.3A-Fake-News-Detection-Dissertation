{
 "cells": [
  {
   "cell_type": "code",
   "execution_count": 1,
   "metadata": {},
   "outputs": [
    {
     "name": "stderr",
     "output_type": "stream",
     "text": [
      "c:\\Users\\CapoBizkitz\\OneDrive - Malta College of Arts, Science & Technology\\dissertation\\code\\TFIDF.ipynb:13: FutureWarning: The frame.append method is deprecated and will be removed from pandas in a future version. Use pandas.concat instead.\n",
      "  },\n"
     ]
    }
   ],
   "source": [
    "from ipynb.fs.full. TFIDF import *"
   ]
  },
  {
   "cell_type": "code",
   "execution_count": 2,
   "metadata": {},
   "outputs": [],
   "source": [
    "# Load libraries\n",
    "import pandas as pd\n",
    "from sklearn.tree import DecisionTreeClassifier # Import Decision Tree Classifier\n",
    "from sklearn.model_selection import train_test_split # Import train_test_split function\n",
    "from sklearn import metrics #Import scikit-learn metrics module for accuracy calculation"
   ]
  },
  {
   "cell_type": "code",
   "execution_count": 3,
   "metadata": {},
   "outputs": [],
   "source": [
    "X = Create_TFIDF() # Features\n",
    "y = dataset['label'] # Target variable"
   ]
  },
  {
   "cell_type": "code",
   "execution_count": 4,
   "metadata": {},
   "outputs": [],
   "source": [
    "X_train, X_test, y_train, y_test = train_test_split(X, y, test_size=0.2)"
   ]
  },
  {
   "cell_type": "code",
   "execution_count": 5,
   "metadata": {},
   "outputs": [
    {
     "name": "stdout",
     "output_type": "stream",
     "text": [
      "Accuracy for Iteration 0 0.1841876629018245\n",
      "Fscore for Iteration 0 0.1719886779598624\n",
      "Precision for Iteration 0 0.17331212751644265\n",
      "Recall for Iteration 0 0.172018217394997\n",
      "--------------------------------------------------------------------------------\n",
      "Accuracy for Iteration 1 0.17723718505647262\n",
      "Fscore for Iteration 1 0.165438876720071\n",
      "Precision for Iteration 1 0.16641481218946053\n",
      "Recall for Iteration 1 0.16607013101136234\n",
      "--------------------------------------------------------------------------------\n",
      "Accuracy for Iteration 2 0.1789748045178106\n",
      "Fscore for Iteration 2 0.16888682410616948\n",
      "Precision for Iteration 2 0.16915297121300946\n",
      "Recall for Iteration 2 0.1692851232815283\n",
      "--------------------------------------------------------------------------------\n",
      "Accuracy for Iteration 3 0.18245004344048654\n",
      "Fscore for Iteration 3 0.17076167869804615\n",
      "Precision for Iteration 3 0.17168626293840264\n",
      "Recall for Iteration 3 0.17118936575034535\n",
      "--------------------------------------------------------------------------------\n",
      "Accuracy for Iteration 4 0.17984361424847958\n",
      "Fscore for Iteration 4 0.1713776587010761\n",
      "Precision for Iteration 4 0.17315773288345201\n",
      "Recall for Iteration 4 0.17087329720064648\n",
      "--------------------------------------------------------------------------------\n"
     ]
    }
   ],
   "source": [
    "from sklearn import metrics\n",
    "from sklearn.metrics import precision_recall_fscore_support as score\n",
    "\n",
    "rf_accuracy = []\n",
    "rf_fScore = []\n",
    "rf_precision = []\n",
    "rf_recall = []\n",
    "\n",
    "for i in range(5):\n",
    "    #Create a Gaussian Classifier\n",
    "    clf=DecisionTreeClassifier()\n",
    "\n",
    "    #Train the model using the training sets y_pred=clf.predict(X_test)\n",
    "    clf.fit(X_train,y_train)\n",
    "\n",
    "    y_pred=clf.predict(X_test)\n",
    "\n",
    "    predictions = clf.predict(X_test)\n",
    "    precision,recall,fscore,support=score(y_test,predictions)\n",
    "\n",
    "    print(\"Accuracy for Iteration \" + str(i) + \" \" + str(metrics.accuracy_score(y_test, y_pred)))\n",
    "    rf_accuracy.append(metrics.accuracy_score(y_test, y_pred))\n",
    "\n",
    "    print(\"Fscore for Iteration \" + str(i) + \" \" + str(sum(fscore)/len(fscore)))\n",
    "    rf_fScore.append(sum(fscore)/len(fscore))\n",
    "\n",
    "    print(\"Precision for Iteration \" + str(i) + \" \" + str(sum(precision)/len(precision)))\n",
    "    rf_precision.append(sum(precision)/len(precision))\n",
    "    \n",
    "    print(\"Recall for Iteration \" + str(i) + \" \" + str(sum(recall)/len(recall)))\n",
    "    rf_recall.append(sum(recall)/len(recall))\n",
    "\n",
    "    print(\"--------------------------------------------------------------------------------\")"
   ]
  },
  {
   "cell_type": "code",
   "execution_count": 6,
   "metadata": {},
   "outputs": [
    {
     "data": {
      "text/plain": [
       "0.18053866203301477"
      ]
     },
     "execution_count": 6,
     "metadata": {},
     "output_type": "execute_result"
    }
   ],
   "source": [
    "sum(rf_accuracy)/len(rf_accuracy)"
   ]
  },
  {
   "cell_type": "code",
   "execution_count": 7,
   "metadata": {},
   "outputs": [
    {
     "data": {
      "text/plain": [
       "0.16969074323704503"
      ]
     },
     "execution_count": 7,
     "metadata": {},
     "output_type": "execute_result"
    }
   ],
   "source": [
    "sum(rf_fScore)/len(rf_fScore)"
   ]
  },
  {
   "cell_type": "code",
   "execution_count": 8,
   "metadata": {},
   "outputs": [
    {
     "data": {
      "text/plain": [
       "0.17074478134815346"
      ]
     },
     "execution_count": 8,
     "metadata": {},
     "output_type": "execute_result"
    }
   ],
   "source": [
    "sum(rf_precision)/len(rf_precision)"
   ]
  },
  {
   "cell_type": "code",
   "execution_count": 9,
   "metadata": {},
   "outputs": [
    {
     "data": {
      "text/plain": [
       "0.16988722692777591"
      ]
     },
     "execution_count": 9,
     "metadata": {},
     "output_type": "execute_result"
    }
   ],
   "source": [
    "sum(rf_recall)/len(rf_recall)"
   ]
  }
 ],
 "metadata": {
  "interpreter": {
   "hash": "1db64c8312b868eab46eb06f4077bc4b407b350787c4625e9af163ad1a2693d2"
  },
  "kernelspec": {
   "display_name": "Python 3.8.5 ('base')",
   "language": "python",
   "name": "python3"
  },
  "language_info": {
   "codemirror_mode": {
    "name": "ipython",
    "version": 3
   },
   "file_extension": ".py",
   "mimetype": "text/x-python",
   "name": "python",
   "nbconvert_exporter": "python",
   "pygments_lexer": "ipython3",
   "version": "3.8.5"
  },
  "orig_nbformat": 4
 },
 "nbformat": 4,
 "nbformat_minor": 2
}
