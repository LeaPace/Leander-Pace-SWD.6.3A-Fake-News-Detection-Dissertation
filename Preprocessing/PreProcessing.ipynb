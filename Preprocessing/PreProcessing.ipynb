{
  "cells": [
    {
      "cell_type": "markdown",
      "metadata": {
        "id": "DXB0LAEf8BAw"
      },
      "source": [
        "### Importing of Libraries"
      ]
    },
    {
      "cell_type": "code",
      "execution_count": 560,
      "metadata": {
        "colab": {
          "base_uri": "https://localhost:8080/"
        },
        "id": "q-thgysKwVMX",
        "outputId": "2832f280-c0e4-46bf-d585-98f64908fd09"
      },
      "outputs": [
        {
          "name": "stderr",
          "output_type": "stream",
          "text": [
            "[nltk_data] Downloading package stopwords to\n",
            "[nltk_data]     C:\\Users\\CapoBizkitz\\AppData\\Roaming\\nltk_data...\n",
            "[nltk_data]   Package stopwords is already up-to-date!\n",
            "[nltk_data] Downloading package punkt to\n",
            "[nltk_data]     C:\\Users\\CapoBizkitz\\AppData\\Roaming\\nltk_data...\n",
            "[nltk_data]   Package punkt is already up-to-date!\n",
            "[nltk_data] Downloading package wordnet to\n",
            "[nltk_data]     C:\\Users\\CapoBizkitz\\AppData\\Roaming\\nltk_data...\n",
            "[nltk_data]   Package wordnet is already up-to-date!\n"
          ]
        }
      ],
      "source": [
        "import numpy as np\n",
        "import pandas as pd\n",
        "import matplotlib.pyplot as plt\n",
        "import seaborn as sns\n",
        "import nltk\n",
        "nltk.download(\"stopwords\")\n",
        "nltk.download(\"punkt\")\n",
        "nltk.download(\"wordnet\")\n",
        "import re\n",
        "import gensim"
      ]
    },
    {
      "cell_type": "markdown",
      "metadata": {
        "id": "uRIc32Nl9TTw"
      },
      "source": [
        "### Data Loading"
      ]
    },
    {
      "cell_type": "code",
      "execution_count": 561,
      "metadata": {
        "id": "btyqXv7QwdJK"
      },
      "outputs": [],
      "source": [
        "train = pd.read_csv('https://raw.githubusercontent.com/Tariq60/LIAR-PLUS/master/dataset/tsv/train2.tsv', delimiter='\\t', encoding='utf-8', names=\n",
        "                        [\"json ID\", \"label\", \"statement\", \"subject\", \"speaker\", \"job title\", \"state\", \"party\",\n",
        "                         \"barely true\", \"false\", \"half true\", \"mostly true\", \"pants on fire\", \"los\", \"justification\"])\n",
        "train.name = 'Training Data'\n",
        "\n",
        "test = pd.read_csv('https://raw.githubusercontent.com/Tariq60/LIAR-PLUS/master/dataset/tsv/test2.tsv', delimiter='\\t', encoding='utf-8', names=\n",
        "                        [\"json ID\", \"label\", \"statement\", \"subject\", \"speaker\", \"job title\", \"state\", \"party\",\n",
        "                         \"barely true\", \"false\", \"half true\", \"mostly true\", \"pants on fire\", \"los\", \"justification\"])\n",
        "test.name = 'Testing Data'"
      ]
    },
    {
      "cell_type": "markdown",
      "metadata": {
        "id": "efqGzUsw9YXX"
      },
      "source": [
        "### Removing any null values from the Label or Json ID attribute"
      ]
    },
    {
      "cell_type": "code",
      "execution_count": 562,
      "metadata": {
        "colab": {
          "base_uri": "https://localhost:8080/"
        },
        "id": "Dus0v5lTw5in",
        "outputId": "39aa877d-72e4-48ca-f8a3-68d974965295"
      },
      "outputs": [
        {
          "data": {
            "text/plain": [
              "json ID             2\n",
              "label               2\n",
              "statement           2\n",
              "subject             4\n",
              "speaker             4\n",
              "job title        2899\n",
              "state            2210\n",
              "party               4\n",
              "barely true         4\n",
              "false               4\n",
              "half true           4\n",
              "mostly true         4\n",
              "pants on fire       4\n",
              "los               104\n",
              "justification      88\n",
              "dtype: int64"
            ]
          },
          "execution_count": 562,
          "metadata": {},
          "output_type": "execute_result"
        }
      ],
      "source": [
        "null_columns=train.columns[train.isnull().any()]\n",
        "train[null_columns].isnull().sum()"
      ]
    },
    {
      "cell_type": "code",
      "execution_count": 563,
      "metadata": {
        "colab": {
          "base_uri": "https://localhost:8080/"
        },
        "id": "7O-HwDqexEG3",
        "outputId": "14db0579-d5a5-44df-953a-afa064246816"
      },
      "outputs": [
        {
          "data": {
            "text/plain": [
              "job title        325\n",
              "state            262\n",
              "los               17\n",
              "justification      9\n",
              "dtype: int64"
            ]
          },
          "execution_count": 563,
          "metadata": {},
          "output_type": "execute_result"
        }
      ],
      "source": [
        "null_columns=test.columns[test.isnull().any()]\n",
        "test[null_columns].isnull().sum()"
      ]
    },
    {
      "cell_type": "code",
      "execution_count": 564,
      "metadata": {
        "colab": {
          "base_uri": "https://localhost:8080/"
        },
        "id": "Ht76MLTjzsXt",
        "outputId": "6b7ba558-0a5e-4c1a-94d3-274af447bc8b"
      },
      "outputs": [
        {
          "name": "stdout",
          "output_type": "stream",
          "text": [
            "    job title state  los justification\n",
            "NaN       NaN   NaN  NaN           NaN\n",
            "NaN       NaN   NaN  NaN           NaN\n"
          ]
        }
      ],
      "source": [
        "print(train[train[\"label\"].isnull()][null_columns])"
      ]
    },
    {
      "cell_type": "code",
      "execution_count": 565,
      "metadata": {
        "id": "YNIg29iRzuWb"
      },
      "outputs": [],
      "source": [
        "train = train[train['json ID'].notna()]"
      ]
    },
    {
      "cell_type": "code",
      "execution_count": 566,
      "metadata": {
        "colab": {
          "base_uri": "https://localhost:8080/"
        },
        "id": "9kyxj34s0ogy",
        "outputId": "1f2009b2-7073-4919-92f1-35a446eef710"
      },
      "outputs": [
        {
          "name": "stdout",
          "output_type": "stream",
          "text": [
            "Empty DataFrame\n",
            "Columns: [job title, state, los, justification]\n",
            "Index: []\n"
          ]
        }
      ],
      "source": [
        "print(train[train[\"label\"].isnull()][null_columns])"
      ]
    },
    {
      "cell_type": "code",
      "execution_count": 567,
      "metadata": {
        "colab": {
          "base_uri": "https://localhost:8080/"
        },
        "id": "2uGSIjyd4g2u",
        "outputId": "a1e186f0-f5a6-43c2-de9d-d34a175b6f17"
      },
      "outputs": [
        {
          "data": {
            "text/plain": [
              "(10240, 15)"
            ]
          },
          "execution_count": 567,
          "metadata": {},
          "output_type": "execute_result"
        }
      ],
      "source": [
        "train.shape"
      ]
    },
    {
      "cell_type": "code",
      "execution_count": 568,
      "metadata": {
        "colab": {
          "base_uri": "https://localhost:8080/"
        },
        "id": "arb48oQW4jbL",
        "outputId": "53ccb425-31b1-4f93-8c02-3433675a6807"
      },
      "outputs": [
        {
          "data": {
            "text/plain": [
              "(1267, 15)"
            ]
          },
          "execution_count": 568,
          "metadata": {},
          "output_type": "execute_result"
        }
      ],
      "source": [
        "test.shape"
      ]
    },
    {
      "cell_type": "markdown",
      "metadata": {
        "id": "A1231D689jRf"
      },
      "source": [
        "### Display the class distribution Training Data and Testing Data"
      ]
    },
    {
      "cell_type": "code",
      "execution_count": 569,
      "metadata": {
        "colab": {
          "base_uri": "https://localhost:8080/"
        },
        "id": "YZnz9Fgy08xG",
        "outputId": "f41fe95c-1d43-4d3b-c9c3-3bb6441fac50"
      },
      "outputs": [
        {
          "data": {
            "text/plain": [
              "half-true      2114\n",
              "false          1995\n",
              "mostly-true    1962\n",
              "true           1676\n",
              "barely-true    1654\n",
              "pants-fire      839\n",
              "Name: label, dtype: int64"
            ]
          },
          "execution_count": 569,
          "metadata": {},
          "output_type": "execute_result"
        }
      ],
      "source": [
        "train['label'].value_counts()"
      ]
    },
    {
      "cell_type": "code",
      "execution_count": 570,
      "metadata": {
        "id": "S_SjsJX02Jvu"
      },
      "outputs": [],
      "source": [
        "tr_half_true = train['label'].value_counts()[0]\n",
        "tr_false = train['label'].value_counts()[1]\n",
        "tr_mostly_true = train['label'].value_counts()[2]\n",
        "tr_true = train['label'].value_counts()[3]\n",
        "tr_barely_true = train['label'].value_counts()[4]\n",
        "tr_pants_fire = train['label'].value_counts()[5]"
      ]
    },
    {
      "cell_type": "markdown",
      "metadata": {
        "id": "gc_7avUN72Ht"
      },
      "source": [
        "Bar Plot showing label distribution for Train"
      ]
    },
    {
      "cell_type": "code",
      "execution_count": 571,
      "metadata": {
        "colab": {
          "base_uri": "https://localhost:8080/",
          "height": 485
        },
        "id": "wWtAwneE29x5",
        "outputId": "7dcdeb56-b3ba-4fd4-86f1-e14f4da2fad1"
      },
      "outputs": [
        {
          "data": {
            "image/png": "[encoded data removed]",
            "text/plain": [
              "<Figure size 720x432 with 1 Axes>"
            ]
          },
          "metadata": {},
          "output_type": "display_data"
        }
      ],
      "source": [
        "import matplotlib.pyplot as plt\n",
        "fig = plt.figure(figsize=(10,6))\n",
        "ax = fig.add_axes([0,0,1,1])\n",
        "labels = ['Half True', 'False', 'Mostly True', 'True', 'Barely True', 'Pants on Fire']\n",
        "distrib = [tr_half_true, tr_false, tr_mostly_true, tr_true, tr_barely_true, tr_pants_fire]\n",
        "ax.bar(labels, distrib, color=['#5FA777', '#FF6962', '#7ABD91', '#0CC078', '#FF8989', '#D26466'])\n",
        "plt.xticks(fontsize=16)\n",
        "plt.yticks(fontsize=16)\n",
        "plt.show()"
      ]
    },
    {
      "cell_type": "code",
      "execution_count": 572,
      "metadata": {
        "colab": {
          "base_uri": "https://localhost:8080/"
        },
        "id": "7Ie_xG3h2D55",
        "outputId": "d78c1940-8c62-414b-bf24-4939b64e4f53"
      },
      "outputs": [
        {
          "data": {
            "text/plain": [
              "half-true      265\n",
              "false          249\n",
              "mostly-true    241\n",
              "barely-true    212\n",
              "true           208\n",
              "pants-fire      92\n",
              "Name: label, dtype: int64"
            ]
          },
          "execution_count": 572,
          "metadata": {},
          "output_type": "execute_result"
        }
      ],
      "source": [
        "test['label'].value_counts()"
      ]
    },
    {
      "cell_type": "code",
      "execution_count": 573,
      "metadata": {
        "id": "1U-Wpc7f2wFu"
      },
      "outputs": [],
      "source": [
        "ts_half_true = test['label'].value_counts()[0]\n",
        "ts_false = test['label'].value_counts()[1]\n",
        "ts_mostly_true = test['label'].value_counts()[2]\n",
        "ts_true = test['label'].value_counts()[3]\n",
        "ts_barely_true = test['label'].value_counts()[4]\n",
        "ts_pants_fire = test['label'].value_counts()[5]"
      ]
    },
    {
      "cell_type": "markdown",
      "metadata": {
        "id": "cuzwFcB-7829"
      },
      "source": [
        "Bar Plot showing label distribution for Test"
      ]
    },
    {
      "cell_type": "code",
      "execution_count": 574,
      "metadata": {
        "colab": {
          "base_uri": "https://localhost:8080/",
          "height": 485
        },
        "id": "DezZo1e705_m",
        "outputId": "019ab6f9-706f-42cb-d658-ff5bd160eb77"
      },
      "outputs": [
        {
          "data": {
            "image/png": "[encoded data removed]",
            "text/plain": [
              "<Figure size 720x432 with 1 Axes>"
            ]
          },
          "metadata": {},
          "output_type": "display_data"
        }
      ],
      "source": [
        "import matplotlib.pyplot as plt\n",
        "fig = plt.figure(figsize=(10,6))\n",
        "ax = fig.add_axes([0,0,1,1])\n",
        "labels = ['Half True', 'False', 'Mostly True', 'True', 'Barely True', 'Pants on Fire']\n",
        "distrib = [ts_half_true, ts_false, ts_mostly_true, ts_true, ts_barely_true, ts_pants_fire]\n",
        "ax.bar(labels, distrib, color=['#5FA777', '#FF6962', '#7ABD91', '#0CC078', '#FF8989', '#D26466'])\n",
        "plt.xticks(fontsize=16)\n",
        "plt.yticks(fontsize=16)\n",
        "plt.show()"
      ]
    },
    {
      "cell_type": "markdown",
      "metadata": {
        "id": "cWFE7ME7aOoa"
      },
      "source": [
        "### Combining statement and justification attributes"
      ]
    },
    {
      "cell_type": "code",
      "execution_count": 575,
      "metadata": {
        "id": "TFN1NDtX4zWt"
      },
      "outputs": [],
      "source": [
        "train['new'] = train['statement'].map(str) + train['justification'].map(str)\n",
        "test['new'] = test['statement'].map(str) + test['justification'].map(str)"
      ]
    },
    {
      "cell_type": "markdown",
      "metadata": {
        "id": "6XHu9J_Kje6a"
      },
      "source": [
        "### Determening the average length of words for before and after preprocessing"
      ]
    },
    {
      "cell_type": "code",
      "execution_count": 576,
      "metadata": {
        "id": "o7z_egfNkeqH"
      },
      "outputs": [],
      "source": [
        "ppr_train = pd.read_csv(\"../../dataset/PreprocessedLiar/train3.csv\")"
      ]
    },
    {
      "cell_type": "code",
      "execution_count": 577,
      "metadata": {
        "id": "wMXxQ4X6kkIv"
      },
      "outputs": [],
      "source": [
        "ppr_test = pd.read_csv(\"../../dataset/PreprocessedLiar/train3.csv\")"
      ]
    },
    {
      "cell_type": "markdown",
      "metadata": {
        "id": "bxp3QO1mkqW5"
      },
      "source": [
        "Before Preprocessing"
      ]
    },
    {
      "cell_type": "code",
      "execution_count": 578,
      "metadata": {
        "id": "WNERmjqCjJYY"
      },
      "outputs": [],
      "source": [
        "words_train = pd.DataFrame(train['new'].tolist()).apply(lambda x: x.str.len()).mean(axis=1)\n",
        "words_test = pd.DataFrame(test['new'].tolist()).apply(lambda x: x.str.len()).mean(axis=1)"
      ]
    },
    {
      "cell_type": "code",
      "execution_count": 579,
      "metadata": {
        "colab": {
          "base_uri": "https://localhost:8080/"
        },
        "id": "Fi_zj-8IjQo4",
        "outputId": "9ed1015f-5beb-4c0f-a9cd-786f1edc14e0"
      },
      "outputs": [
        {
          "name": "stdout",
          "output_type": "stream",
          "text": [
            "533.4892578125\n",
            "550.3172849250197\n"
          ]
        }
      ],
      "source": [
        "avg_words_train = words_train.mean()\n",
        "avg_words_test = words_test.mean()\n",
        "print(avg_words_train)\n",
        "print(avg_words_test)"
      ]
    },
    {
      "cell_type": "markdown",
      "metadata": {
        "id": "zdmqQJ1Moo5_"
      },
      "source": [
        "After Preprocessing"
      ]
    },
    {
      "cell_type": "code",
      "execution_count": 580,
      "metadata": {
        "id": "n4_L2iTsktwA"
      },
      "outputs": [],
      "source": [
        "ppr_words_train = pd.DataFrame(ppr_train['cleaned_statement'].tolist()).apply(lambda x: x.str.len()).mean(axis=1)\n",
        "ppr_words_test = pd.DataFrame(ppr_test['cleaned_statement'].tolist()).apply(lambda x: x.str.len()).mean(axis=1)"
      ]
    },
    {
      "cell_type": "code",
      "execution_count": 581,
      "metadata": {
        "colab": {
          "base_uri": "https://localhost:8080/"
        },
        "id": "yqGJnz78k7Rx",
        "outputId": "e4ffff6e-d5cc-4055-a7aa-46b730703295"
      },
      "outputs": [
        {
          "name": "stdout",
          "output_type": "stream",
          "text": [
            "278.1658203125\n",
            "278.1658203125\n"
          ]
        }
      ],
      "source": [
        "avg_ppr_words_train = ppr_words_train.mean()\n",
        "avg_ppr_words_test = ppr_words_test.mean()\n",
        "print(avg_ppr_words_train)\n",
        "print(avg_ppr_words_test)"
      ]
    },
    {
      "cell_type": "markdown",
      "metadata": {
        "id": "ZSotB7Ak7koN"
      },
      "source": [
        "Bar plot showing the average length of words before and after preprocessing"
      ]
    },
    {
      "cell_type": "code",
      "execution_count": 582,
      "metadata": {
        "colab": {
          "base_uri": "https://localhost:8080/",
          "height": 485
        },
        "id": "Z3okY3SBtPjG",
        "outputId": "dcd5a14e-2f9b-4c15-ff4d-48875c8a0de0"
      },
      "outputs": [
        {
          "data": {
            "image/png": "[encoded data removed]",
            "text/plain": [
              "<Figure size 720x432 with 1 Axes>"
            ]
          },
          "metadata": {},
          "output_type": "display_data"
        }
      ],
      "source": [
        "import matplotlib.pyplot as plt\n",
        "fig = plt.figure(figsize=(10,6))\n",
        "ax = fig.add_axes([0,0,1,1])\n",
        "dataset = ['Train Before PPR', 'Test Before PPR', 'Train After PPR', 'Test After PPR']\n",
        "wordLength = [avg_words_train, avg_words_test, avg_ppr_words_train, avg_ppr_words_test]\n",
        "ax.bar(dataset, wordLength, color=['#B1D9EC', '#B1D9EC', '#F8A145', '#F8A145'])\n",
        "plt.xticks(fontsize=16)\n",
        "plt.yticks(fontsize=16)\n",
        "plt.show()"
      ]
    },
    {
      "cell_type": "code",
      "execution_count": 583,
      "metadata": {
        "colab": {
          "base_uri": "https://localhost:8080/"
        },
        "id": "FnsqpeIoIwmC",
        "outputId": "cbe4166c-126d-4a8c-d5b0-06586be0688d"
      },
      "outputs": [
        {
          "data": {
            "text/plain": [
              "537    The problem of unwanted sexual contacts in the...\n",
              "612    Obama has \"visited more countries and met with...\n",
              "551    A new ruling by the EPA would force dairy farm...\n",
              "658    Says that, unlike the U.S. Senate, even the Li...\n",
              "640    A telephone company will no longer have to pro...\n",
              "Name: new, dtype: object"
            ]
          },
          "execution_count": 583,
          "metadata": {},
          "output_type": "execute_result"
        }
      ],
      "source": [
        "test['new'].sample(5)"
      ]
    },
    {
      "cell_type": "markdown",
      "metadata": {
        "id": "Z22OORgvZ1rr"
      },
      "source": [
        "### Plotting a Bubble Plot to show words with word count over 3000"
      ]
    },
    {
      "cell_type": "markdown",
      "metadata": {
        "id": "7dkRxtQCaAme"
      },
      "source": [
        "combine dataset"
      ]
    },
    {
      "cell_type": "code",
      "execution_count": 584,
      "metadata": {
        "id": "jzDTLmPmW2xk"
      },
      "outputs": [
        {
          "name": "stderr",
          "output_type": "stream",
          "text": [
            "<ipython-input-584-f09bc1b4f5bd>:1: FutureWarning: The frame.append method is deprecated and will be removed from pandas in a future version. Use pandas.concat instead.\n",
            "  dataset = ppr_train.append(ppr_test, ignore_index=True)\n"
          ]
        }
      ],
      "source": [
        "dataset = ppr_train.append(ppr_test, ignore_index=True)"
      ]
    },
    {
      "cell_type": "markdown",
      "metadata": {
        "id": "1UTFszoIaEFJ"
      },
      "source": [
        "Create a new dataframe"
      ]
    },
    {
      "cell_type": "code",
      "execution_count": 585,
      "metadata": {
        "colab": {
          "base_uri": "https://localhost:8080/",
          "height": 423
        },
        "id": "UxDtrgYvBksQ",
        "outputId": "33465555-915c-4052-d9b1-81ab7f8f46d6"
      },
      "outputs": [
        {
          "data": {
            "text/html": [
              "<div>\n",
              "<style scoped>\n",
              "    .dataframe tbody tr th:only-of-type {\n",
              "        vertical-align: middle;\n",
              "    }\n",
              "\n",
              "    .dataframe tbody tr th {\n",
              "        vertical-align: top;\n",
              "    }\n",
              "\n",
              "    .dataframe thead th {\n",
              "        text-align: right;\n",
              "    }\n",
              "</style>\n",
              "<table border=\"1\" class=\"dataframe\">\n",
              "  <thead>\n",
              "    <tr style=\"text-align: right;\">\n",
              "      <th></th>\n",
              "      <th>Word</th>\n",
              "      <th>Frequency</th>\n",
              "    </tr>\n",
              "  </thead>\n",
              "  <tbody>\n",
              "    <tr>\n",
              "      <th>0</th>\n",
              "      <td>say</td>\n",
              "      <td>21170</td>\n",
              "    </tr>\n",
              "    <tr>\n",
              "      <th>1</th>\n",
              "      <td>state</td>\n",
              "      <td>10750</td>\n",
              "    </tr>\n",
              "    <tr>\n",
              "      <th>2</th>\n",
              "      <td>year</td>\n",
              "      <td>8508</td>\n",
              "    </tr>\n",
              "    <tr>\n",
              "      <th>3</th>\n",
              "      <td>percent</td>\n",
              "      <td>7542</td>\n",
              "    </tr>\n",
              "    <tr>\n",
              "      <th>4</th>\n",
              "      <td>obama</td>\n",
              "      <td>6096</td>\n",
              "    </tr>\n",
              "    <tr>\n",
              "      <th>...</th>\n",
              "      <td>...</td>\n",
              "      <td>...</td>\n",
              "    </tr>\n",
              "    <tr>\n",
              "      <th>14073</th>\n",
              "      <td>strive</td>\n",
              "      <td>2</td>\n",
              "    </tr>\n",
              "    <tr>\n",
              "      <th>14074</th>\n",
              "      <td>mobilitythan</td>\n",
              "      <td>2</td>\n",
              "    </tr>\n",
              "    <tr>\n",
              "      <th>14075</th>\n",
              "      <td>centr</td>\n",
              "      <td>2</td>\n",
              "    </tr>\n",
              "    <tr>\n",
              "      <th>14076</th>\n",
              "      <td>venic</td>\n",
              "      <td>2</td>\n",
              "    </tr>\n",
              "    <tr>\n",
              "      <th>14077</th>\n",
              "      <td>radiointerview</td>\n",
              "      <td>2</td>\n",
              "    </tr>\n",
              "  </tbody>\n",
              "</table>\n",
              "<p>14078 rows × 2 columns</p>\n",
              "</div>"
            ],
            "text/plain": [
              "                 Word  Frequency\n",
              "0                 say      21170\n",
              "1               state      10750\n",
              "2                year       8508\n",
              "3             percent       7542\n",
              "4               obama       6096\n",
              "...               ...        ...\n",
              "14073          strive          2\n",
              "14074    mobilitythan          2\n",
              "14075           centr          2\n",
              "14076           venic          2\n",
              "14077  radiointerview          2\n",
              "\n",
              "[14078 rows x 2 columns]"
            ]
          },
          "execution_count": 585,
          "metadata": {},
          "output_type": "execute_result"
        }
      ],
      "source": [
        "new_df = dataset.cleaned_statement.str.split(expand=True).stack().value_counts().reset_index()\n",
        "\n",
        "new_df.columns = ['Word', 'Frequency'] \n",
        "\n",
        "fr = new_df['Frequency']\n",
        "\n",
        "new_df  \n",
        "  "
      ]
    },
    {
      "cell_type": "markdown",
      "metadata": {
        "id": "E-dHs9DQaJJT"
      },
      "source": [
        "Convert freqeuncy column to numeric"
      ]
    },
    {
      "cell_type": "code",
      "execution_count": 586,
      "metadata": {
        "colab": {
          "base_uri": "https://localhost:8080/"
        },
        "id": "frz8yhrPLwgv",
        "outputId": "6ed662a4-dc7c-4f02-c90a-898dcd5ddfab"
      },
      "outputs": [
        {
          "data": {
            "text/plain": [
              "0        21170\n",
              "1        10750\n",
              "2         8508\n",
              "3         7542\n",
              "4         6096\n",
              "         ...  \n",
              "14073        2\n",
              "14074        2\n",
              "14075        2\n",
              "14076        2\n",
              "14077        2\n",
              "Name: Frequency, Length: 14078, dtype: int64"
            ]
          },
          "execution_count": 586,
          "metadata": {},
          "output_type": "execute_result"
        }
      ],
      "source": [
        "pd.to_numeric(fr)"
      ]
    },
    {
      "cell_type": "code",
      "execution_count": 587,
      "metadata": {
        "id": "jtWJxcRNPnZP"
      },
      "outputs": [],
      "source": [
        "new_df['Frequency'] = fr"
      ]
    },
    {
      "cell_type": "markdown",
      "metadata": {
        "id": "0rKc-g9EaNts"
      },
      "source": [
        "Only keep rows with frequency over 3200"
      ]
    },
    {
      "cell_type": "code",
      "execution_count": 588,
      "metadata": {
        "id": "7o4NfHimPbIc"
      },
      "outputs": [],
      "source": [
        "new_df = new_df[new_df['Frequency'] > 3600]"
      ]
    },
    {
      "cell_type": "code",
      "execution_count": 589,
      "metadata": {},
      "outputs": [
        {
          "data": {
            "text/plain": [
              "10"
            ]
          },
          "execution_count": 589,
          "metadata": {},
          "output_type": "execute_result"
        }
      ],
      "source": [
        "len(new_df)"
      ]
    },
    {
      "cell_type": "markdown",
      "metadata": {
        "id": "bz6aeNyeaSET"
      },
      "source": [
        "Assign a color and size to bubbles"
      ]
    },
    {
      "cell_type": "code",
      "execution_count": 592,
      "metadata": {
        "colab": {
          "base_uri": "https://localhost:8080/"
        },
        "id": "2u8p_DtMRqJT",
        "outputId": "a2d36da5-ced2-4d69-d9b0-a30a27945132"
      },
      "outputs": [
        {
          "name": "stderr",
          "output_type": "stream",
          "text": [
            "<ipython-input-592-3c906d308a96>:1: SettingWithCopyWarning: \n",
            "A value is trying to be set on a copy of a slice from a DataFrame.\n",
            "Try using .loc[row_indexer,col_indexer] = value instead\n",
            "\n",
            "See the caveats in the documentation: https://pandas.pydata.org/pandas-docs/stable/user_guide/indexing.html#returning-a-view-versus-a-copy\n",
            "  new_df['bubble_size'] = fr/4\n",
            "<ipython-input-592-3c906d308a96>:2: SettingWithCopyWarning: \n",
            "A value is trying to be set on a copy of a slice from a DataFrame.\n",
            "Try using .loc[row_indexer,col_indexer] = value instead\n",
            "\n",
            "See the caveats in the documentation: https://pandas.pydata.org/pandas-docs/stable/user_guide/indexing.html#returning-a-view-versus-a-copy\n",
            "  new_df['color'] = np.random.rand(10)\n"
          ]
        }
      ],
      "source": [
        "new_df['bubble_size'] = fr/4\n",
        "new_df['color'] = np.random.rand(10)"
      ]
    },
    {
      "cell_type": "code",
      "execution_count": 591,
      "metadata": {
        "colab": {
          "base_uri": "https://localhost:8080/",
          "height": 457
        },
        "id": "yrx1JLo5QzTN",
        "outputId": "a944ef83-ff23-4ecd-8941-287c9307b989"
      },
      "outputs": [
        {
          "data": {
            "text/html": [
              "<div>\n",
              "<style scoped>\n",
              "    .dataframe tbody tr th:only-of-type {\n",
              "        vertical-align: middle;\n",
              "    }\n",
              "\n",
              "    .dataframe tbody tr th {\n",
              "        vertical-align: top;\n",
              "    }\n",
              "\n",
              "    .dataframe thead th {\n",
              "        text-align: right;\n",
              "    }\n",
              "</style>\n",
              "<table border=\"1\" class=\"dataframe\">\n",
              "  <thead>\n",
              "    <tr style=\"text-align: right;\">\n",
              "      <th></th>\n",
              "      <th>Word</th>\n",
              "      <th>Frequency</th>\n",
              "      <th>bubble_size</th>\n",
              "    </tr>\n",
              "  </thead>\n",
              "  <tbody>\n",
              "    <tr>\n",
              "      <th>4</th>\n",
              "      <td>obama</td>\n",
              "      <td>6096</td>\n",
              "      <td>1524.0</td>\n",
              "    </tr>\n",
              "    <tr>\n",
              "      <th>7</th>\n",
              "      <td>peopl</td>\n",
              "      <td>4026</td>\n",
              "      <td>1006.5</td>\n",
              "    </tr>\n",
              "    <tr>\n",
              "      <th>9</th>\n",
              "      <td>million</td>\n",
              "      <td>3626</td>\n",
              "      <td>906.5</td>\n",
              "    </tr>\n",
              "    <tr>\n",
              "      <th>5</th>\n",
              "      <td>vote</td>\n",
              "      <td>4834</td>\n",
              "      <td>1208.5</td>\n",
              "    </tr>\n",
              "    <tr>\n",
              "      <th>1</th>\n",
              "      <td>state</td>\n",
              "      <td>10750</td>\n",
              "      <td>2687.5</td>\n",
              "    </tr>\n",
              "    <tr>\n",
              "      <th>0</th>\n",
              "      <td>say</td>\n",
              "      <td>21170</td>\n",
              "      <td>5292.5</td>\n",
              "    </tr>\n",
              "    <tr>\n",
              "      <th>2</th>\n",
              "      <td>year</td>\n",
              "      <td>8508</td>\n",
              "      <td>2127.0</td>\n",
              "    </tr>\n",
              "    <tr>\n",
              "      <th>8</th>\n",
              "      <td>time</td>\n",
              "      <td>3782</td>\n",
              "      <td>945.5</td>\n",
              "    </tr>\n",
              "    <tr>\n",
              "      <th>3</th>\n",
              "      <td>percent</td>\n",
              "      <td>7542</td>\n",
              "      <td>1885.5</td>\n",
              "    </tr>\n",
              "    <tr>\n",
              "      <th>6</th>\n",
              "      <td>number</td>\n",
              "      <td>4086</td>\n",
              "      <td>1021.5</td>\n",
              "    </tr>\n",
              "  </tbody>\n",
              "</table>\n",
              "</div>"
            ],
            "text/plain": [
              "      Word  Frequency  bubble_size\n",
              "4    obama       6096       1524.0\n",
              "7    peopl       4026       1006.5\n",
              "9  million       3626        906.5\n",
              "5     vote       4834       1208.5\n",
              "1    state      10750       2687.5\n",
              "0      say      21170       5292.5\n",
              "2     year       8508       2127.0\n",
              "8     time       3782        945.5\n",
              "3  percent       7542       1885.5\n",
              "6   number       4086       1021.5"
            ]
          },
          "execution_count": 591,
          "metadata": {},
          "output_type": "execute_result"
        }
      ],
      "source": [
        "new_df.sample(10)"
      ]
    },
    {
      "cell_type": "markdown",
      "metadata": {
        "id": "v243kSKVaces"
      },
      "source": [
        "Decalare plotting values"
      ]
    },
    {
      "cell_type": "code",
      "execution_count": 593,
      "metadata": {
        "colab": {
          "base_uri": "https://localhost:8080/",
          "height": 206
        },
        "id": "fnc_QFlnAhNT",
        "outputId": "27011ef8-4b3d-4d4b-97db-f6446b9cef22"
      },
      "outputs": [
        {
          "data": {
            "text/html": [
              "<div>\n",
              "<style scoped>\n",
              "    .dataframe tbody tr th:only-of-type {\n",
              "        vertical-align: middle;\n",
              "    }\n",
              "\n",
              "    .dataframe tbody tr th {\n",
              "        vertical-align: top;\n",
              "    }\n",
              "\n",
              "    .dataframe thead th {\n",
              "        text-align: right;\n",
              "    }\n",
              "</style>\n",
              "<table border=\"1\" class=\"dataframe\">\n",
              "  <thead>\n",
              "    <tr style=\"text-align: right;\">\n",
              "      <th></th>\n",
              "      <th>X</th>\n",
              "      <th>Y</th>\n",
              "      <th>bubble_size</th>\n",
              "      <th>color</th>\n",
              "    </tr>\n",
              "  </thead>\n",
              "  <tbody>\n",
              "    <tr>\n",
              "      <th>0</th>\n",
              "      <td>say</td>\n",
              "      <td>21170</td>\n",
              "      <td>5292.5</td>\n",
              "      <td>0.885989</td>\n",
              "    </tr>\n",
              "    <tr>\n",
              "      <th>1</th>\n",
              "      <td>state</td>\n",
              "      <td>10750</td>\n",
              "      <td>2687.5</td>\n",
              "      <td>0.568343</td>\n",
              "    </tr>\n",
              "    <tr>\n",
              "      <th>2</th>\n",
              "      <td>year</td>\n",
              "      <td>8508</td>\n",
              "      <td>2127.0</td>\n",
              "      <td>0.961065</td>\n",
              "    </tr>\n",
              "    <tr>\n",
              "      <th>3</th>\n",
              "      <td>percent</td>\n",
              "      <td>7542</td>\n",
              "      <td>1885.5</td>\n",
              "      <td>0.543181</td>\n",
              "    </tr>\n",
              "    <tr>\n",
              "      <th>4</th>\n",
              "      <td>obama</td>\n",
              "      <td>6096</td>\n",
              "      <td>1524.0</td>\n",
              "      <td>0.465874</td>\n",
              "    </tr>\n",
              "  </tbody>\n",
              "</table>\n",
              "</div>"
            ],
            "text/plain": [
              "         X      Y  bubble_size     color\n",
              "0      say  21170       5292.5  0.885989\n",
              "1    state  10750       2687.5  0.568343\n",
              "2     year   8508       2127.0  0.961065\n",
              "3  percent   7542       1885.5  0.543181\n",
              "4    obama   6096       1524.0  0.465874"
            ]
          },
          "execution_count": 593,
          "metadata": {},
          "output_type": "execute_result"
        }
      ],
      "source": [
        "df = pd.DataFrame({\n",
        "    'X': new_df['Word'],\n",
        "    'Y': new_df['Frequency'],\n",
        "    'bubble_size': new_df['bubble_size'],\n",
        "    'color': new_df['color']})\n",
        "df.head()"
      ]
    },
    {
      "cell_type": "markdown",
      "metadata": {
        "id": "UwtslxCIagdN"
      },
      "source": [
        "\n",
        "\n",
        "```\n",
        "# This is formatted as code\n",
        "```\n",
        "\n",
        "Plotting a bubble plot to display Word Count"
      ]
    },
    {
      "cell_type": "code",
      "execution_count": 602,
      "metadata": {
        "colab": {
          "base_uri": "https://localhost:8080/",
          "height": 646
        },
        "id": "YbYwZnDPPBK0",
        "outputId": "9d337f18-0ef2-4d7d-d64a-101b714d9043"
      },
      "outputs": [
        {
          "data": {
            "text/plain": [
              "(array([ 2500.,  5000.,  7500., 10000., 12500., 15000., 17500., 20000.,\n",
              "        22500.]),\n",
              " [Text(0, 0, ''),\n",
              "  Text(0, 0, ''),\n",
              "  Text(0, 0, ''),\n",
              "  Text(0, 0, ''),\n",
              "  Text(0, 0, ''),\n",
              "  Text(0, 0, ''),\n",
              "  Text(0, 0, ''),\n",
              "  Text(0, 0, ''),\n",
              "  Text(0, 0, '')])"
            ]
          },
          "execution_count": 602,
          "metadata": {},
          "output_type": "execute_result"
        },
        {
          "data": {
            "image/png": "[encoded data removed]",
            "text/plain": [
              "<Figure size 1944x1152 with 1 Axes>"
            ]
          },
          "metadata": {},
          "output_type": "display_data"
        }
      ],
      "source": [
        "plt.figure(figsize=(27,16))\n",
        "plt.style.use('ggplot')\n",
        "plt.scatter('X', 'Y', s='bubble_size', c='color', alpha=0.5, data=df)\n",
        "plt.xlabel(\"Word\", size=22)\n",
        "plt.ylabel(\"Count\", size=22)\n",
        "plt.xticks(fontsize=20)\n",
        "plt.yticks(fontsize=20)"
      ]
    },
    {
      "cell_type": "markdown",
      "metadata": {
        "id": "PrBwLtvq_OKp"
      },
      "source": [
        "### Pre-Processing of Train and Test"
      ]
    },
    {
      "cell_type": "code",
      "execution_count": 95,
      "metadata": {
        "id": "GSc5SBZZE1W4"
      },
      "outputs": [],
      "source": [
        "#!pip install spacy==2.2.3\n",
        "#!python -m spacy download en_core_web_sm\n",
        "#!pip install beautifulsoup4==4.9.1\n",
        "#!pip install textblob==0.15.3\n",
        "#!pip install git+https://github.com/laxmimerit/preprocess_kgptalkie.git --upgrade --force-reinstall"
      ]
    },
    {
      "cell_type": "markdown",
      "metadata": {
        "id": "HewhAqk2asqC"
      },
      "source": [
        "### remove special characters"
      ]
    },
    {
      "cell_type": "code",
      "execution_count": 96,
      "metadata": {
        "id": "GaAZywecE3NQ"
      },
      "outputs": [
        {
          "data": {
            "text/plain": [
              "0       Building a wall on the USMexico border will ta...\n",
              "1       Wisconsin is on pace to double the number of l...\n",
              "2       Says John McCain has done nothing to help the ...\n",
              "3       Suzanne Bonamici supports a plan that will cut...\n",
              "4       When asked by a reporter whether hes at the ce...\n",
              "                              ...                        \n",
              "1278    Says his budget provides the highest state fun...\n",
              "1279    Ive been here almost every dayAfter making his...\n",
              "1280    In the early 1980s Sen Edward Kennedy secretly...\n",
              "1281    Says an EPA permit languished under Strickland...\n",
              "1282    Says the governor is going around the state ta...\n",
              "Name: new, Length: 1267, dtype: object"
            ]
          },
          "execution_count": 96,
          "metadata": {},
          "output_type": "execute_result"
        }
      ],
      "source": [
        "import preprocess_kgptalkie as ps\n",
        "\n",
        "train['new'].apply(lambda x: ps.remove_special_chars(x))\n",
        "test['new'].apply(lambda x: ps.remove_special_chars(x))"
      ]
    },
    {
      "cell_type": "markdown",
      "metadata": {
        "id": "XBeOGyanaxTP"
      },
      "source": [
        "### remove stop words"
      ]
    },
    {
      "cell_type": "code",
      "execution_count": 97,
      "metadata": {
        "id": "TASNAEFJCQ1A"
      },
      "outputs": [],
      "source": [
        "# Remove stopwords and remove words with 2 or less characters using gensim\n",
        "from nltk.corpus import stopwords\n",
        "stop_words = stopwords.words('english')\n",
        "\n",
        "def preprocess(text):\n",
        "    result = []\n",
        "    for token in gensim.utils.simple_preprocess(text):\n",
        "        if token not in gensim.parsing.preprocessing.STOPWORDS and len(token) > 3 and token not in stop_words:\n",
        "            result.append(token)\n",
        "            \n",
        "    return result"
      ]
    },
    {
      "cell_type": "code",
      "execution_count": 98,
      "metadata": {},
      "outputs": [],
      "source": [
        "# Apply the function to the dataframe\n",
        "train['new'] = train['new'].apply(preprocess)\n",
        "test['new'] = test['new'].apply(preprocess)"
      ]
    },
    {
      "cell_type": "code",
      "execution_count": 105,
      "metadata": {},
      "outputs": [
        {
          "data": {
            "text/plain": [
              "0.0        says annies list political group supports trim...\n",
              "1.0        decline coal start started natural took starte...\n",
              "2.0        hillary clinton agrees john mccain voting geor...\n",
              "3.0        health care reform legislation likely mandate ...\n",
              "4.0        economic turnaround started term crist said ec...\n",
              "                                 ...                        \n",
              "10264.0    larger number shark attacks florida cases vote...\n",
              "10265.0    democrats party atlanta metro area blacks romn...\n",
              "10266.0    says alternative social security operates galv...\n",
              "10267.0    lifting cuban embargo allowing travel cuba che...\n",
              "10268.0    department veterans affairs manual telling vet...\n",
              "Name: new, Length: 10240, dtype: object"
            ]
          },
          "execution_count": 105,
          "metadata": {},
          "output_type": "execute_result"
        }
      ],
      "source": [
        "train['new']"
      ]
    },
    {
      "cell_type": "markdown",
      "metadata": {},
      "source": [
        "### Lammetizing Text with noun"
      ]
    },
    {
      "cell_type": "code",
      "execution_count": 102,
      "metadata": {},
      "outputs": [],
      "source": [
        "# import nltk\n",
        "# from nltk.stem import WordNetLemmatizer\n",
        "# lemmatizer = WordNetLemmatizer()\n",
        "\n",
        "# def Lammetize(text):\n",
        "#     word_list = nltk.word_tokenize(text)\n",
        "#     lammetized_output = ' '.join([lemmatizer.lemmatize(w, 'n') for w in word_list])\n",
        "\n",
        "#     return lammetized_output"
      ]
    },
    {
      "cell_type": "code",
      "execution_count": 104,
      "metadata": {},
      "outputs": [],
      "source": [
        "train['new'] = train['new'].apply(lambda x: \" \".join(x))\n",
        "test['new'] = test['new'].apply(lambda x: \" \".join(x))"
      ]
    },
    {
      "cell_type": "code",
      "execution_count": 106,
      "metadata": {
        "id": "EuM3IQv2HyaQ"
      },
      "outputs": [],
      "source": [
        "# # Apply the function to the dataframe\n",
        "# train['new'] = train['new'].apply(Lammetize)\n",
        "# test['new'] = test['new'].apply(Lammetize)"
      ]
    },
    {
      "cell_type": "code",
      "execution_count": 107,
      "metadata": {
        "id": "OsZQ4VgMGSMx"
      },
      "outputs": [
        {
          "data": {
            "text/plain": [
              "0.0        say annies list political group support trimes...\n",
              "1.0        decline coal start started natural took starte...\n",
              "2.0        hillary clinton agrees john mccain voting geor...\n",
              "3.0        health care reform legislation likely mandate ...\n",
              "4.0        economic turnaround started term crist said ec...\n",
              "                                 ...                        \n",
              "10264.0    larger number shark attack florida case voter ...\n",
              "10265.0    democrat party atlanta metro area black romney...\n",
              "10266.0    say alternative social security operates galve...\n",
              "10267.0    lifting cuban embargo allowing travel cuba che...\n",
              "10268.0    department veteran affair manual telling veter...\n",
              "Name: new, Length: 10240, dtype: object"
            ]
          },
          "execution_count": 107,
          "metadata": {},
          "output_type": "execute_result"
        }
      ],
      "source": [
        "train['new']"
      ]
    },
    {
      "cell_type": "markdown",
      "metadata": {
        "id": "JrtV9lykalxK"
      },
      "source": [
        "Removes any white spaces in the text"
      ]
    },
    {
      "cell_type": "code",
      "execution_count": 108,
      "metadata": {
        "id": "Hfr77hXQOcRg"
      },
      "outputs": [
        {
          "data": {
            "text/plain": [
              "0       building wall mexico border literally year mea...\n",
              "1       wisconsin pace double number layoff year cited...\n",
              "2       say john mccain help vet trump said mccain hel...\n",
              "3       suzanne bonamici support plan choice medicare ...\n",
              "4       asked reporter center criminal scheme violate ...\n",
              "                              ...                        \n",
              "1278    say budget provides highest state funding leve...\n",
              "1279    making pledge obama said budget soon propose l...\n",
              "1280    early edward kennedy secretly offered help sov...\n",
              "1281    say permit languished strickland director day ...\n",
              "1282    say governor going state talking fund income b...\n",
              "Name: new, Length: 1267, dtype: object"
            ]
          },
          "execution_count": 108,
          "metadata": {},
          "output_type": "execute_result"
        }
      ],
      "source": [
        "train['new'].str.strip()\n",
        "test['new'].str.strip()"
      ]
    },
    {
      "cell_type": "code",
      "execution_count": 109,
      "metadata": {
        "id": "tlhX5DCMNcqY"
      },
      "outputs": [
        {
          "data": {
            "text/plain": [
              "2547.0    thirty state accepted high speed intercity rai...\n",
              "4492.0    say michelle nunn amnesty boehner said epa pla...\n",
              "116.0     majority state marry freely fired love mean st...\n",
              "623.0     tenured teacher year dismissed incompetence st...\n",
              "5563.0    average republican voter think revenue deal se...\n",
              "Name: new, dtype: object"
            ]
          },
          "execution_count": 109,
          "metadata": {},
          "output_type": "execute_result"
        }
      ],
      "source": [
        "train['new'].sample(5)"
      ]
    },
    {
      "cell_type": "code",
      "execution_count": 110,
      "metadata": {
        "id": "8I_K1oEtNlxR"
      },
      "outputs": [
        {
          "data": {
            "text/plain": [
              "404     election vote cast registered voter lucie coun...\n",
              "523     say portland household year long composting pi...\n",
              "1122    medium crowd boxer said half woman birth contr...\n",
              "488     favor plan attacking party meaningful force pe...\n",
              "619     lorain poorest urban school district state ohi...\n",
              "Name: new, dtype: object"
            ]
          },
          "execution_count": 110,
          "metadata": {},
          "output_type": "execute_result"
        }
      ],
      "source": [
        "test['new'].sample(5)"
      ]
    },
    {
      "cell_type": "markdown",
      "metadata": {
        "id": "d_eZGHXQ7AcO"
      },
      "source": [
        "Restructure dataset to fit the data we need"
      ]
    },
    {
      "cell_type": "code",
      "execution_count": 111,
      "metadata": {
        "id": "mpT3DPrNPyjr"
      },
      "outputs": [],
      "source": [
        "train = train.rename(columns = {'json ID': 'articleId', 'new': 'cleaned_statement'}, inplace = False)\n",
        "test = test.rename(columns = {'json ID': 'articleId', 'new': 'cleaned_statement'}, inplace = False)"
      ]
    },
    {
      "cell_type": "code",
      "execution_count": 112,
      "metadata": {
        "id": "TojMXtoUPm8z"
      },
      "outputs": [],
      "source": [
        "test['articleId'] = test['articleId'].str.split('.').str[0]\n",
        "train['articleId'] = train['articleId'].str.split('.').str[0]"
      ]
    },
    {
      "cell_type": "code",
      "execution_count": 113,
      "metadata": {
        "id": "D4qljvTcQrRp"
      },
      "outputs": [],
      "source": [
        "train_set = train[['articleId', 'cleaned_statement', 'label']]\n",
        "test_set = test[['articleId', 'cleaned_statement', 'label']]"
      ]
    },
    {
      "cell_type": "code",
      "execution_count": 114,
      "metadata": {
        "id": "hnIK_vdhSYCu"
      },
      "outputs": [
        {
          "data": {
            "text/plain": [
              "1147    claim obama said oppose policy shut away quint...\n",
              "141     iraq study group reported saddam hussein desig...\n",
              "931     medicare percent american older health care co...\n",
              "366     say main central texas food bank delivering pe...\n",
              "686     impeachment anybody history country checked se...\n",
              "Name: cleaned_statement, dtype: object"
            ]
          },
          "execution_count": 114,
          "metadata": {},
          "output_type": "execute_result"
        }
      ],
      "source": [
        "test_set['cleaned_statement'].sample(5)"
      ]
    },
    {
      "cell_type": "code",
      "execution_count": 115,
      "metadata": {
        "id": "wa37ysjKSju9"
      },
      "outputs": [
        {
          "data": {
            "text/plain": [
              "2056.0     11755\n",
              "10258.0     4423\n",
              "4033.0      7098\n",
              "9396.0     11302\n",
              "8156.0      8150\n",
              "Name: articleId, dtype: object"
            ]
          },
          "execution_count": 115,
          "metadata": {},
          "output_type": "execute_result"
        }
      ],
      "source": [
        "train_set['articleId'].sample(5)"
      ]
    },
    {
      "cell_type": "markdown",
      "metadata": {
        "id": "Op3yX_s07Kd1"
      },
      "source": [
        "Save to CSV"
      ]
    },
    {
      "cell_type": "code",
      "execution_count": 116,
      "metadata": {
        "id": "VrGN7Xm7YQKR"
      },
      "outputs": [],
      "source": [
        "#train_set.to_csv(r'train.csv', index = False)"
      ]
    },
    {
      "cell_type": "code",
      "execution_count": 117,
      "metadata": {
        "id": "rSt66rMxZDJB"
      },
      "outputs": [],
      "source": [
        "#test_set.to_csv(r'test.csv', index = False)"
      ]
    }
  ],
  "metadata": {
    "colab": {
      "collapsed_sections": [],
      "name": "PreProcessing.ipynb",
      "provenance": []
    },
    "interpreter": {
      "hash": "1db64c8312b868eab46eb06f4077bc4b407b350787c4625e9af163ad1a2693d2"
    },
    "kernelspec": {
      "display_name": "Python 3.8.5 ('base')",
      "language": "python",
      "name": "python3"
    },
    "language_info": {
      "codemirror_mode": {
        "name": "ipython",
        "version": 3
      },
      "file_extension": ".py",
      "mimetype": "text/x-python",
      "name": "python",
      "nbconvert_exporter": "python",
      "pygments_lexer": "ipython3",
      "version": "3.8.5"
    }
  },
  "nbformat": 4,
  "nbformat_minor": 0
}
