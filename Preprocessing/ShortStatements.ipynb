{
 "cells": [
  {
   "cell_type": "code",
   "execution_count": 138,
   "metadata": {},
   "outputs": [
    {
     "name": "stderr",
     "output_type": "stream",
     "text": [
      "[nltk_data] Downloading package stopwords to\n",
      "[nltk_data]     C:\\Users\\CapoBizkitz\\AppData\\Roaming\\nltk_data...\n",
      "[nltk_data]   Package stopwords is already up-to-date!\n",
      "[nltk_data] Downloading package punkt to\n",
      "[nltk_data]     C:\\Users\\CapoBizkitz\\AppData\\Roaming\\nltk_data...\n",
      "[nltk_data]   Package punkt is already up-to-date!\n",
      "[nltk_data] Downloading package wordnet to\n",
      "[nltk_data]     C:\\Users\\CapoBizkitz\\AppData\\Roaming\\nltk_data...\n",
      "[nltk_data]   Package wordnet is already up-to-date!\n"
     ]
    }
   ],
   "source": [
    "import numpy as np\n",
    "import pandas as pd\n",
    "import matplotlib.pyplot as plt\n",
    "import seaborn as sns\n",
    "import nltk\n",
    "nltk.download(\"stopwords\")\n",
    "nltk.download(\"punkt\")\n",
    "nltk.download(\"wordnet\")\n",
    "import re\n",
    "import gensim"
   ]
  },
  {
   "cell_type": "code",
   "execution_count": 139,
   "metadata": {},
   "outputs": [],
   "source": [
    "train = pd.read_csv('https://raw.githubusercontent.com/Tariq60/LIAR-PLUS/master/dataset/tsv/train2.tsv', delimiter='\\t', encoding='utf-8', names=\n",
    "                        [\"json ID\", \"label\", \"statement\", \"subject\", \"speaker\", \"job title\", \"state\", \"party\",\n",
    "                         \"barely true\", \"false\", \"half true\", \"mostly true\", \"pants on fire\", \"los\", \"justification\"])\n",
    "train.name = 'Training Data'\n",
    "\n",
    "test = pd.read_csv('https://raw.githubusercontent.com/Tariq60/LIAR-PLUS/master/dataset/tsv/test2.tsv', delimiter='\\t', encoding='utf-8', names=\n",
    "                        [\"json ID\", \"label\", \"statement\", \"subject\", \"speaker\", \"job title\", \"state\", \"party\",\n",
    "                         \"barely true\", \"false\", \"half true\", \"mostly true\", \"pants on fire\", \"los\", \"justification\"])\n",
    "test.name = 'Testing Data'"
   ]
  },
  {
   "cell_type": "code",
   "execution_count": 140,
   "metadata": {},
   "outputs": [
    {
     "data": {
      "text/plain": [
       "json ID             2\n",
       "label               2\n",
       "statement           2\n",
       "subject             4\n",
       "speaker             4\n",
       "job title        2899\n",
       "state            2210\n",
       "party               4\n",
       "barely true         4\n",
       "false               4\n",
       "half true           4\n",
       "mostly true         4\n",
       "pants on fire       4\n",
       "los               104\n",
       "justification      88\n",
       "dtype: int64"
      ]
     },
     "execution_count": 140,
     "metadata": {},
     "output_type": "execute_result"
    }
   ],
   "source": [
    "null_columns=train.columns[train.isnull().any()]\n",
    "train[null_columns].isnull().sum()"
   ]
  },
  {
   "cell_type": "code",
   "execution_count": 141,
   "metadata": {},
   "outputs": [
    {
     "data": {
      "text/plain": [
       "job title        325\n",
       "state            262\n",
       "los               17\n",
       "justification      9\n",
       "dtype: int64"
      ]
     },
     "execution_count": 141,
     "metadata": {},
     "output_type": "execute_result"
    }
   ],
   "source": [
    "null_columns=test.columns[test.isnull().any()]\n",
    "test[null_columns].isnull().sum()"
   ]
  },
  {
   "cell_type": "code",
   "execution_count": 142,
   "metadata": {},
   "outputs": [
    {
     "name": "stdout",
     "output_type": "stream",
     "text": [
      "    job title state  los justification\n",
      "NaN       NaN   NaN  NaN           NaN\n",
      "NaN       NaN   NaN  NaN           NaN\n"
     ]
    }
   ],
   "source": [
    "print(train[train[\"label\"].isnull()][null_columns])"
   ]
  },
  {
   "cell_type": "code",
   "execution_count": 143,
   "metadata": {},
   "outputs": [],
   "source": [
    "train = train[train['json ID'].notna()]"
   ]
  },
  {
   "cell_type": "code",
   "execution_count": 144,
   "metadata": {},
   "outputs": [
    {
     "name": "stdout",
     "output_type": "stream",
     "text": [
      "Empty DataFrame\n",
      "Columns: [job title, state, los, justification]\n",
      "Index: []\n"
     ]
    }
   ],
   "source": [
    "print(train[train[\"label\"].isnull()][null_columns])"
   ]
  },
  {
   "cell_type": "code",
   "execution_count": 145,
   "metadata": {},
   "outputs": [
    {
     "data": {
      "text/plain": [
       "(10240, 15)"
      ]
     },
     "execution_count": 145,
     "metadata": {},
     "output_type": "execute_result"
    }
   ],
   "source": [
    "train.shape"
   ]
  },
  {
   "cell_type": "code",
   "execution_count": 146,
   "metadata": {},
   "outputs": [
    {
     "data": {
      "text/plain": [
       "(1267, 15)"
      ]
     },
     "execution_count": 146,
     "metadata": {},
     "output_type": "execute_result"
    }
   ],
   "source": [
    "test.shape"
   ]
  },
  {
   "cell_type": "code",
   "execution_count": 147,
   "metadata": {},
   "outputs": [
    {
     "data": {
      "text/plain": [
       "half-true      2114\n",
       "false          1995\n",
       "mostly-true    1962\n",
       "true           1676\n",
       "barely-true    1654\n",
       "pants-fire      839\n",
       "Name: label, dtype: int64"
      ]
     },
     "execution_count": 147,
     "metadata": {},
     "output_type": "execute_result"
    }
   ],
   "source": [
    "train['label'].value_counts()"
   ]
  },
  {
   "cell_type": "code",
   "execution_count": 148,
   "metadata": {},
   "outputs": [],
   "source": [
    "train['new'] = train['statement'].map(str) + train['justification'].map(str)\n",
    "test['new'] = test['statement'].map(str) + test['justification'].map(str)"
   ]
  },
  {
   "cell_type": "code",
   "execution_count": 149,
   "metadata": {},
   "outputs": [],
   "source": [
    "ppr_train = pd.read_csv(\"../../dataset/PreprocessedLiar/train.csv\")"
   ]
  },
  {
   "cell_type": "code",
   "execution_count": 150,
   "metadata": {},
   "outputs": [],
   "source": [
    "ppr_test = pd.read_csv(\"../../dataset/PreprocessedLiar/test.csv\")"
   ]
  },
  {
   "cell_type": "code",
   "execution_count": 151,
   "metadata": {},
   "outputs": [],
   "source": [
    "dataset = ppr_train.append(ppr_test, ignore_index=True)"
   ]
  },
  {
   "cell_type": "code",
   "execution_count": 152,
   "metadata": {},
   "outputs": [],
   "source": [
    "ppr_dataset = pd.DataFrame(dataset['cleaned_statement'].tolist()).apply(lambda x: x.str.len()).mean(axis=1)"
   ]
  },
  {
   "cell_type": "code",
   "execution_count": 153,
   "metadata": {},
   "outputs": [
    {
     "name": "stdout",
     "output_type": "stream",
     "text": [
      "318.7786564699748\n"
     ]
    }
   ],
   "source": [
    "avg_ppr_words_dataset = ppr_dataset.mean()\n",
    "print(avg_ppr_words_dataset)"
   ]
  },
  {
   "cell_type": "code",
   "execution_count": 154,
   "metadata": {},
   "outputs": [],
   "source": [
    "dataset['word_count'] = dataset['cleaned_statement'].str.count(' ') + 1"
   ]
  },
  {
   "cell_type": "code",
   "execution_count": 155,
   "metadata": {},
   "outputs": [
    {
     "name": "stdout",
     "output_type": "stream",
     "text": [
      "753\n"
     ]
    }
   ],
   "source": [
    "max_value = dataset['word_count'].max()\n",
    "print(max_value)"
   ]
  },
  {
   "cell_type": "code",
   "execution_count": 156,
   "metadata": {},
   "outputs": [
    {
     "name": "stdout",
     "output_type": "stream",
     "text": [
      "       articleId                                  cleaned_statement  \\\n",
      "0           2635  say annies list political group support trimes...   \n",
      "2            324  hillary clinton agrees john mccain voting geor...   \n",
      "4           9028  economic turnaround started term crist said ec...   \n",
      "5          12465  chicago bear starting quarterback year total n...   \n",
      "6           2342  dunnam lived district represents year determin...   \n",
      "...          ...                                                ...   \n",
      "11501       6699  menendez voted enact sale home santorum correc...   \n",
      "11502       7334  say budget provides highest state funding leve...   \n",
      "11504      10710  early edward kennedy secretly offered help sov...   \n",
      "11505       3186  say permit languished strickland director day ...   \n",
      "11506       6743  say governor going state talking fund income b...   \n",
      "\n",
      "             label  word_count  \n",
      "0            false          28  \n",
      "2      mostly-true          39  \n",
      "4        half-true          50  \n",
      "5             true          43  \n",
      "6      barely-true          24  \n",
      "...            ...         ...  \n",
      "11501   pants-fire          24  \n",
      "11502    half-true          35  \n",
      "11504  barely-true          28  \n",
      "11505  barely-true          44  \n",
      "11506        false          30  \n",
      "\n",
      "[8508 rows x 4 columns]\n"
     ]
    }
   ],
   "source": [
    "df_mask=dataset['word_count']<=50\n",
    "filtered_df = dataset[df_mask]\n",
    "print(filtered_df)"
   ]
  },
  {
   "cell_type": "code",
   "execution_count": 161,
   "metadata": {},
   "outputs": [
    {
     "data": {
      "text/html": [
       "<div>\n",
       "<style scoped>\n",
       "    .dataframe tbody tr th:only-of-type {\n",
       "        vertical-align: middle;\n",
       "    }\n",
       "\n",
       "    .dataframe tbody tr th {\n",
       "        vertical-align: top;\n",
       "    }\n",
       "\n",
       "    .dataframe thead th {\n",
       "        text-align: right;\n",
       "    }\n",
       "</style>\n",
       "<table border=\"1\" class=\"dataframe\">\n",
       "  <thead>\n",
       "    <tr style=\"text-align: right;\">\n",
       "      <th></th>\n",
       "      <th>articleId</th>\n",
       "      <th>cleaned_statement</th>\n",
       "      <th>label</th>\n",
       "    </tr>\n",
       "  </thead>\n",
       "  <tbody>\n",
       "    <tr>\n",
       "      <th>7762</th>\n",
       "      <td>10530</td>\n",
       "      <td>student attempt suicide year college campus ma...</td>\n",
       "      <td>half-true</td>\n",
       "    </tr>\n",
       "    <tr>\n",
       "      <th>9144</th>\n",
       "      <td>7546</td>\n",
       "      <td>hole earth thats going proposed gogebic bigger...</td>\n",
       "      <td>true</td>\n",
       "    </tr>\n",
       "    <tr>\n",
       "      <th>8056</th>\n",
       "      <td>4505</td>\n",
       "      <td>baby boomer retiring simply shred proof public...</td>\n",
       "      <td>true</td>\n",
       "    </tr>\n",
       "    <tr>\n",
       "      <th>9891</th>\n",
       "      <td>12764</td>\n",
       "      <td>say debbie wasserman schultz voted huge subsid...</td>\n",
       "      <td>mostly-true</td>\n",
       "    </tr>\n",
       "    <tr>\n",
       "      <th>3903</th>\n",
       "      <td>274</td>\n",
       "      <td>building cayman island supposedly house corpor...</td>\n",
       "      <td>half-true</td>\n",
       "    </tr>\n",
       "    <tr>\n",
       "      <th>9674</th>\n",
       "      <td>7897</td>\n",
       "      <td>coal industrybut decision based state funding ...</td>\n",
       "      <td>false</td>\n",
       "    </tr>\n",
       "    <tr>\n",
       "      <th>7790</th>\n",
       "      <td>12032</td>\n",
       "      <td>million american work example obama think pres...</td>\n",
       "      <td>half-true</td>\n",
       "    </tr>\n",
       "    <tr>\n",
       "      <th>1322</th>\n",
       "      <td>8252</td>\n",
       "      <td>kenosha casino state largest employer state co...</td>\n",
       "      <td>mostly-true</td>\n",
       "    </tr>\n",
       "    <tr>\n",
       "      <th>5214</th>\n",
       "      <td>1940</td>\n",
       "      <td>spends billion research development energy spe...</td>\n",
       "      <td>half-true</td>\n",
       "    </tr>\n",
       "    <tr>\n",
       "      <th>5968</th>\n",
       "      <td>1818</td>\n",
       "      <td>history department university texas registered...</td>\n",
       "      <td>false</td>\n",
       "    </tr>\n",
       "  </tbody>\n",
       "</table>\n",
       "</div>"
      ],
      "text/plain": [
       "      articleId                                  cleaned_statement  \\\n",
       "7762      10530  student attempt suicide year college campus ma...   \n",
       "9144       7546  hole earth thats going proposed gogebic bigger...   \n",
       "8056       4505  baby boomer retiring simply shred proof public...   \n",
       "9891      12764  say debbie wasserman schultz voted huge subsid...   \n",
       "3903        274  building cayman island supposedly house corpor...   \n",
       "9674       7897  coal industrybut decision based state funding ...   \n",
       "7790      12032  million american work example obama think pres...   \n",
       "1322       8252  kenosha casino state largest employer state co...   \n",
       "5214       1940  spends billion research development energy spe...   \n",
       "5968       1818  history department university texas registered...   \n",
       "\n",
       "            label  \n",
       "7762    half-true  \n",
       "9144         true  \n",
       "8056         true  \n",
       "9891  mostly-true  \n",
       "3903    half-true  \n",
       "9674        false  \n",
       "7790    half-true  \n",
       "1322  mostly-true  \n",
       "5214    half-true  \n",
       "5968        false  "
      ]
     },
     "execution_count": 161,
     "metadata": {},
     "output_type": "execute_result"
    }
   ],
   "source": [
    "filtered_df.sample(10)"
   ]
  },
  {
   "cell_type": "code",
   "execution_count": 158,
   "metadata": {},
   "outputs": [
    {
     "name": "stderr",
     "output_type": "stream",
     "text": [
      "c:\\Users\\CapoBizkitz\\anaconda3\\lib\\site-packages\\pandas\\core\\frame.py:4906: SettingWithCopyWarning: \n",
      "A value is trying to be set on a copy of a slice from a DataFrame\n",
      "\n",
      "See the caveats in the documentation: https://pandas.pydata.org/pandas-docs/stable/user_guide/indexing.html#returning-a-view-versus-a-copy\n",
      "  return super().drop(\n"
     ]
    }
   ],
   "source": [
    "filtered_df.drop(\"word_count\", axis=1, inplace=True)"
   ]
  },
  {
   "cell_type": "code",
   "execution_count": 159,
   "metadata": {},
   "outputs": [
    {
     "data": {
      "text/html": [
       "<div>\n",
       "<style scoped>\n",
       "    .dataframe tbody tr th:only-of-type {\n",
       "        vertical-align: middle;\n",
       "    }\n",
       "\n",
       "    .dataframe tbody tr th {\n",
       "        vertical-align: top;\n",
       "    }\n",
       "\n",
       "    .dataframe thead th {\n",
       "        text-align: right;\n",
       "    }\n",
       "</style>\n",
       "<table border=\"1\" class=\"dataframe\">\n",
       "  <thead>\n",
       "    <tr style=\"text-align: right;\">\n",
       "      <th></th>\n",
       "      <th>articleId</th>\n",
       "      <th>cleaned_statement</th>\n",
       "      <th>label</th>\n",
       "    </tr>\n",
       "  </thead>\n",
       "  <tbody>\n",
       "    <tr>\n",
       "      <th>0</th>\n",
       "      <td>2635</td>\n",
       "      <td>say annies list political group support trimes...</td>\n",
       "      <td>false</td>\n",
       "    </tr>\n",
       "    <tr>\n",
       "      <th>2</th>\n",
       "      <td>324</td>\n",
       "      <td>hillary clinton agrees john mccain voting geor...</td>\n",
       "      <td>mostly-true</td>\n",
       "    </tr>\n",
       "    <tr>\n",
       "      <th>4</th>\n",
       "      <td>9028</td>\n",
       "      <td>economic turnaround started term crist said ec...</td>\n",
       "      <td>half-true</td>\n",
       "    </tr>\n",
       "    <tr>\n",
       "      <th>5</th>\n",
       "      <td>12465</td>\n",
       "      <td>chicago bear starting quarterback year total n...</td>\n",
       "      <td>true</td>\n",
       "    </tr>\n",
       "    <tr>\n",
       "      <th>6</th>\n",
       "      <td>2342</td>\n",
       "      <td>dunnam lived district represents year determin...</td>\n",
       "      <td>barely-true</td>\n",
       "    </tr>\n",
       "    <tr>\n",
       "      <th>...</th>\n",
       "      <td>...</td>\n",
       "      <td>...</td>\n",
       "      <td>...</td>\n",
       "    </tr>\n",
       "    <tr>\n",
       "      <th>11501</th>\n",
       "      <td>6699</td>\n",
       "      <td>menendez voted enact sale home santorum correc...</td>\n",
       "      <td>pants-fire</td>\n",
       "    </tr>\n",
       "    <tr>\n",
       "      <th>11502</th>\n",
       "      <td>7334</td>\n",
       "      <td>say budget provides highest state funding leve...</td>\n",
       "      <td>half-true</td>\n",
       "    </tr>\n",
       "    <tr>\n",
       "      <th>11504</th>\n",
       "      <td>10710</td>\n",
       "      <td>early edward kennedy secretly offered help sov...</td>\n",
       "      <td>barely-true</td>\n",
       "    </tr>\n",
       "    <tr>\n",
       "      <th>11505</th>\n",
       "      <td>3186</td>\n",
       "      <td>say permit languished strickland director day ...</td>\n",
       "      <td>barely-true</td>\n",
       "    </tr>\n",
       "    <tr>\n",
       "      <th>11506</th>\n",
       "      <td>6743</td>\n",
       "      <td>say governor going state talking fund income b...</td>\n",
       "      <td>false</td>\n",
       "    </tr>\n",
       "  </tbody>\n",
       "</table>\n",
       "<p>8508 rows × 3 columns</p>\n",
       "</div>"
      ],
      "text/plain": [
       "       articleId                                  cleaned_statement  \\\n",
       "0           2635  say annies list political group support trimes...   \n",
       "2            324  hillary clinton agrees john mccain voting geor...   \n",
       "4           9028  economic turnaround started term crist said ec...   \n",
       "5          12465  chicago bear starting quarterback year total n...   \n",
       "6           2342  dunnam lived district represents year determin...   \n",
       "...          ...                                                ...   \n",
       "11501       6699  menendez voted enact sale home santorum correc...   \n",
       "11502       7334  say budget provides highest state funding leve...   \n",
       "11504      10710  early edward kennedy secretly offered help sov...   \n",
       "11505       3186  say permit languished strickland director day ...   \n",
       "11506       6743  say governor going state talking fund income b...   \n",
       "\n",
       "             label  \n",
       "0            false  \n",
       "2      mostly-true  \n",
       "4        half-true  \n",
       "5             true  \n",
       "6      barely-true  \n",
       "...            ...  \n",
       "11501   pants-fire  \n",
       "11502    half-true  \n",
       "11504  barely-true  \n",
       "11505  barely-true  \n",
       "11506        false  \n",
       "\n",
       "[8508 rows x 3 columns]"
      ]
     },
     "execution_count": 159,
     "metadata": {},
     "output_type": "execute_result"
    }
   ],
   "source": [
    "filtered_df"
   ]
  },
  {
   "cell_type": "code",
   "execution_count": 160,
   "metadata": {},
   "outputs": [],
   "source": [
    "filtered_df.to_csv(r'ShortStatements.csv', index = False)"
   ]
  }
 ],
 "metadata": {
  "interpreter": {
   "hash": "1db64c8312b868eab46eb06f4077bc4b407b350787c4625e9af163ad1a2693d2"
  },
  "kernelspec": {
   "display_name": "Python 3.8.5 ('base')",
   "language": "python",
   "name": "python3"
  },
  "language_info": {
   "codemirror_mode": {
    "name": "ipython",
    "version": 3
   },
   "file_extension": ".py",
   "mimetype": "text/x-python",
   "name": "python",
   "nbconvert_exporter": "python",
   "pygments_lexer": "ipython3",
   "version": "3.8.5"
  },
  "orig_nbformat": 4
 },
 "nbformat": 4,
 "nbformat_minor": 2
}
